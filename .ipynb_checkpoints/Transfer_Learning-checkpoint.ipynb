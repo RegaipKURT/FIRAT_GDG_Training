{
 "cells": [
  {
   "cell_type": "markdown",
   "metadata": {
    "colab_type": "text",
    "id": "view-in-github"
   },
   "source": [
    "<a href=\"https://colab.research.google.com/github/RegaipKURT/Advanced_AI_with_PYTHON/blob/master/Transfer_Learning.ipynb\" target=\"_parent\"><img src=\"https://colab.research.google.com/assets/colab-badge.svg\" alt=\"Open In Colab\"/></a>"
   ]
  },
  {
   "cell_type": "code",
   "execution_count": 0,
   "metadata": {
    "colab": {},
    "colab_type": "code",
    "id": "jh0rvNLjrzwS"
   },
   "outputs": [],
   "source": [
    "import numpy as np\n",
    "import matplotlib.pyplot as plt\n",
    "import pandas as pd\n",
    "from keras.applications import VGG19\n",
    "from keras.applications import VGG16\n",
    "from keras.applications import ResNet50V2\n",
    "from keras.models import load_model"
   ]
  },
  {
   "cell_type": "code",
   "execution_count": 0,
   "metadata": {
    "colab": {},
    "colab_type": "code",
    "id": "L_y8RyXrHclh"
   },
   "outputs": [],
   "source": [
    "import warnings\n",
    "warnings.filterwarnings(\"ignore\")"
   ]
  },
  {
   "cell_type": "code",
   "execution_count": 0,
   "metadata": {
    "colab": {},
    "colab_type": "code",
    "id": "pouuxu7dJcDz"
   },
   "outputs": [],
   "source": [
    "model = VGG19(weights='imagenet', \n",
    "                      include_top=False, \n",
    "                      input_shape=(32, 32, 3))"
   ]
  },
  {
   "cell_type": "code",
   "execution_count": 0,
   "metadata": {
    "colab": {},
    "colab_type": "code",
    "id": "omo83gMZKycx"
   },
   "outputs": [],
   "source": [
    "from keras.layers import Dense, Activation, Flatten, Dropout\n",
    "from keras.models import Sequential, Model\n",
    "import tensorflow as tf\n",
    "\n",
    "for layer in model.layers[:-1]:\n",
    "    layer.trainable = False\n",
    "\n",
    "x = model.output\n",
    "x = Flatten()(x)\n",
    "x = Dense(1024, activation='relu')(x) \n",
    "predictions = Dense(10, activation='softmax')(x) \n",
    "model = Model(inputs=model.input, outputs=predictions)"
   ]
  },
  {
   "cell_type": "code",
   "execution_count": 20,
   "metadata": {
    "colab": {
     "base_uri": "https://localhost:8080/",
     "height": 1000
    },
    "colab_type": "code",
    "id": "OdMFKR5BUews",
    "outputId": "ccd7f076-86c9-4995-d35c-1fa874c76a08"
   },
   "outputs": [
    {
     "name": "stdout",
     "output_type": "stream",
     "text": [
      "Model: \"model_2\"\n",
      "_________________________________________________________________\n",
      "Layer (type)                 Output Shape              Param #   \n",
      "=================================================================\n",
      "input_3 (InputLayer)         (None, 32, 32, 3)         0         \n",
      "_________________________________________________________________\n",
      "block1_conv1 (Conv2D)        (None, 32, 32, 64)        1792      \n",
      "_________________________________________________________________\n",
      "block1_conv2 (Conv2D)        (None, 32, 32, 64)        36928     \n",
      "_________________________________________________________________\n",
      "block1_pool (MaxPooling2D)   (None, 16, 16, 64)        0         \n",
      "_________________________________________________________________\n",
      "block2_conv1 (Conv2D)        (None, 16, 16, 128)       73856     \n",
      "_________________________________________________________________\n",
      "block2_conv2 (Conv2D)        (None, 16, 16, 128)       147584    \n",
      "_________________________________________________________________\n",
      "block2_pool (MaxPooling2D)   (None, 8, 8, 128)         0         \n",
      "_________________________________________________________________\n",
      "block3_conv1 (Conv2D)        (None, 8, 8, 256)         295168    \n",
      "_________________________________________________________________\n",
      "block3_conv2 (Conv2D)        (None, 8, 8, 256)         590080    \n",
      "_________________________________________________________________\n",
      "block3_conv3 (Conv2D)        (None, 8, 8, 256)         590080    \n",
      "_________________________________________________________________\n",
      "block3_conv4 (Conv2D)        (None, 8, 8, 256)         590080    \n",
      "_________________________________________________________________\n",
      "block3_pool (MaxPooling2D)   (None, 4, 4, 256)         0         \n",
      "_________________________________________________________________\n",
      "block4_conv1 (Conv2D)        (None, 4, 4, 512)         1180160   \n",
      "_________________________________________________________________\n",
      "block4_conv2 (Conv2D)        (None, 4, 4, 512)         2359808   \n",
      "_________________________________________________________________\n",
      "block4_conv3 (Conv2D)        (None, 4, 4, 512)         2359808   \n",
      "_________________________________________________________________\n",
      "block4_conv4 (Conv2D)        (None, 4, 4, 512)         2359808   \n",
      "_________________________________________________________________\n",
      "block4_pool (MaxPooling2D)   (None, 2, 2, 512)         0         \n",
      "_________________________________________________________________\n",
      "block5_conv1 (Conv2D)        (None, 2, 2, 512)         2359808   \n",
      "_________________________________________________________________\n",
      "block5_conv2 (Conv2D)        (None, 2, 2, 512)         2359808   \n",
      "_________________________________________________________________\n",
      "block5_conv3 (Conv2D)        (None, 2, 2, 512)         2359808   \n",
      "_________________________________________________________________\n",
      "block5_conv4 (Conv2D)        (None, 2, 2, 512)         2359808   \n",
      "_________________________________________________________________\n",
      "block5_pool (MaxPooling2D)   (None, 1, 1, 512)         0         \n",
      "_________________________________________________________________\n",
      "flatten_2 (Flatten)          (None, 512)               0         \n",
      "_________________________________________________________________\n",
      "dense_3 (Dense)              (None, 1024)              525312    \n",
      "_________________________________________________________________\n",
      "dense_4 (Dense)              (None, 10)                10250     \n",
      "=================================================================\n",
      "Total params: 20,559,946\n",
      "Trainable params: 535,562\n",
      "Non-trainable params: 20,024,384\n",
      "_________________________________________________________________\n"
     ]
    }
   ],
   "source": [
    "model.summary()"
   ]
  },
  {
   "cell_type": "code",
   "execution_count": 21,
   "metadata": {
    "colab": {
     "base_uri": "https://localhost:8080/",
     "height": 51
    },
    "colab_type": "code",
    "id": "8wtQT-oxUhu7",
    "outputId": "fb54190e-5965-4f59-97c4-11cfc4443ee8"
   },
   "outputs": [
    {
     "name": "stdout",
     "output_type": "stream",
     "text": [
      "[4]\n",
      "[0 0 0 0 0 0 0 0 0 0]\n"
     ]
    }
   ],
   "source": [
    "from keras.datasets import cifar10\n",
    "(x_train, y_train), (x_test, y_test) = cifar10.load_data()\n",
    "print(y_train[10])\n",
    "train_y = np.zeros((50000,10), dtype=\"uint8\")\n",
    "print(train_y[2])\n",
    "for sira, deger in enumerate(y_train):\n",
    "    train_y[sira, deger] = 1"
   ]
  },
  {
   "cell_type": "code",
   "execution_count": 22,
   "metadata": {
    "colab": {
     "base_uri": "https://localhost:8080/",
     "height": 734
    },
    "colab_type": "code",
    "id": "-VWZ9af7JjZ-",
    "outputId": "1c9c596a-2915-4cb7-8a93-762724bc5ace"
   },
   "outputs": [
    {
     "name": "stdout",
     "output_type": "stream",
     "text": [
      "Train on 40000 samples, validate on 10000 samples\n",
      "Epoch 1/20\n",
      "40000/40000 [==============================] - 37s 929us/step - loss: 10.9331 - mean_squared_error: 0.1369 - val_loss: 10.5125 - val_mean_squared_error: 0.1312\n",
      "Epoch 2/20\n",
      "40000/40000 [==============================] - 37s 916us/step - loss: 10.6367 - mean_squared_error: 0.1327 - val_loss: 10.4749 - val_mean_squared_error: 0.1306\n",
      "Epoch 3/20\n",
      "40000/40000 [==============================] - 36s 912us/step - loss: 10.6566 - mean_squared_error: 0.1327 - val_loss: 10.4797 - val_mean_squared_error: 0.1306\n",
      "Epoch 4/20\n",
      "40000/40000 [==============================] - 36s 912us/step - loss: 10.4873 - mean_squared_error: 0.1304 - val_loss: 10.5214 - val_mean_squared_error: 0.1309\n",
      "Epoch 5/20\n",
      "40000/40000 [==============================] - 37s 918us/step - loss: 10.5279 - mean_squared_error: 0.1309 - val_loss: 10.5038 - val_mean_squared_error: 0.1305\n",
      "Epoch 6/20\n",
      "40000/40000 [==============================] - 36s 911us/step - loss: 10.4655 - mean_squared_error: 0.1301 - val_loss: 10.1735 - val_mean_squared_error: 0.1266\n",
      "Epoch 7/20\n",
      "40000/40000 [==============================] - 37s 916us/step - loss: 10.0094 - mean_squared_error: 0.1246 - val_loss: 9.9466 - val_mean_squared_error: 0.1238\n",
      "Epoch 8/20\n",
      "40000/40000 [==============================] - 37s 914us/step - loss: 9.7729 - mean_squared_error: 0.1216 - val_loss: 9.9674 - val_mean_squared_error: 0.1239\n",
      "Epoch 9/20\n",
      "40000/40000 [==============================] - 36s 912us/step - loss: 9.6695 - mean_squared_error: 0.1202 - val_loss: 9.7894 - val_mean_squared_error: 0.1217\n",
      "Epoch 10/20\n",
      "40000/40000 [==============================] - 37s 913us/step - loss: 9.7059 - mean_squared_error: 0.1206 - val_loss: 9.7019 - val_mean_squared_error: 0.1207\n",
      "Epoch 11/20\n",
      "40000/40000 [==============================] - 37s 916us/step - loss: 9.6508 - mean_squared_error: 0.1199 - val_loss: 9.7092 - val_mean_squared_error: 0.1207\n",
      "Epoch 12/20\n",
      "40000/40000 [==============================] - 36s 911us/step - loss: 9.6831 - mean_squared_error: 0.1203 - val_loss: 9.7408 - val_mean_squared_error: 0.1210\n",
      "Epoch 13/20\n",
      "40000/40000 [==============================] - 37s 915us/step - loss: 9.7136 - mean_squared_error: 0.1207 - val_loss: 9.8870 - val_mean_squared_error: 0.1228\n",
      "Epoch 14/20\n",
      "40000/40000 [==============================] - 37s 917us/step - loss: 9.6243 - mean_squared_error: 0.1195 - val_loss: 9.7049 - val_mean_squared_error: 0.1205\n",
      "Epoch 15/20\n",
      "40000/40000 [==============================] - 36s 911us/step - loss: 9.7038 - mean_squared_error: 0.1205 - val_loss: 9.8700 - val_mean_squared_error: 0.1226\n",
      "Epoch 16/20\n",
      "40000/40000 [==============================] - 36s 910us/step - loss: 9.7679 - mean_squared_error: 0.1213 - val_loss: 9.9359 - val_mean_squared_error: 0.1234\n",
      "Epoch 17/20\n",
      "40000/40000 [==============================] - 36s 912us/step - loss: 9.7362 - mean_squared_error: 0.1209 - val_loss: 9.7109 - val_mean_squared_error: 0.1206\n",
      "Epoch 18/20\n",
      "40000/40000 [==============================] - 36s 911us/step - loss: 9.7194 - mean_squared_error: 0.1207 - val_loss: 9.7353 - val_mean_squared_error: 0.1209\n",
      "Epoch 19/20\n",
      "40000/40000 [==============================] - 37s 915us/step - loss: 9.6363 - mean_squared_error: 0.1197 - val_loss: 9.6929 - val_mean_squared_error: 0.1204\n",
      "Epoch 20/20\n",
      "40000/40000 [==============================] - 36s 909us/step - loss: 9.6676 - mean_squared_error: 0.1201 - val_loss: 9.7803 - val_mean_squared_error: 0.1214\n"
     ]
    }
   ],
   "source": [
    "model.compile(optimizer=\"adam\", loss=\"categorical_crossentropy\", metrics=[\"mse\"])\n",
    "history = model.fit(x_train, train_y, epochs=20, validation_split=0.2)"
   ]
  },
  {
   "cell_type": "code",
   "execution_count": 23,
   "metadata": {
    "colab": {
     "base_uri": "https://localhost:8080/",
     "height": 295
    },
    "colab_type": "code",
    "id": "0R2zLWrbIjvd",
    "outputId": "427998e4-0892-4584-ce0e-9b64e697a0f8"
   },
   "outputs": [
    {
     "data": {
      "image/png": "[encoded data removed]",
      "text/plain": [
       "<Figure size 432x288 with 2 Axes>"
      ]
     },
     "metadata": {
      "tags": []
     },
     "output_type": "display_data"
    }
   ],
   "source": [
    "plt.subplot(2, 1, 1)\n",
    "plt.plot(history.history[\"mean_squared_error\"], 'o-')\n",
    "plt.title('Epoch Sayısı')\n",
    "plt.ylabel('MSE')\n",
    "\n",
    "plt.subplot(2, 1, 2)\n",
    "plt.plot(history.history[\"loss\"], '.-')\n",
    "plt.xlabel('Epoch Sayısı')\n",
    "plt.ylabel('Loss')\n",
    "\n",
    "plt.show()"
   ]
  }
 ],
 "metadata": {
  "accelerator": "GPU",
  "colab": {
   "collapsed_sections": [],
   "include_colab_link": true,
   "name": "Transfer Learning.ipynb",
   "provenance": [],
   "version": "0.3.2"
  },
  "kernelspec": {
   "display_name": "Python 3 (ipykernel)",
   "language": "python",
   "name": "python3"
  },
  "language_info": {
   "codemirror_mode": {
    "name": "ipython",
    "version": 3
   },
   "file_extension": ".py",
   "mimetype": "text/x-python",
   "name": "python",
   "nbconvert_exporter": "python",
   "pygments_lexer": "ipython3",
   "version": "3.10.5"
  }
 },
 "nbformat": 4,
 "nbformat_minor": 1
}
