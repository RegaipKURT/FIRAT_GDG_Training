{
 "cells": [
  {
   "cell_type": "markdown",
   "metadata": {
    "colab_type": "text",
    "id": "view-in-github"
   },
   "source": [
    "<a href=\"https://colab.research.google.com/github/RegaipKURT/Advanced_AI_with_PYTHON/blob/master/GAN.ipynb\" target=\"_parent\"><img src=\"https://colab.research.google.com/assets/colab-badge.svg\" alt=\"Open In Colab\"/></a>"
   ]
  },
  {
   "cell_type": "markdown",
   "metadata": {
    "colab_type": "text",
    "id": "XAostOSJqxWZ"
   },
   "source": [
    "# GENERATIVE ADVERSERIAL NETWORK (GAN) \n",
    "# ÜRETKEN ÇEKİŞMELİ AĞLAR\n",
    "\n",
    "**GAN NEDİR?**\n",
    "\n",
    "GAN bir yapay sinir ağı mimarisidir. Aslında iki ayrı ağ yapısının bir araya gelmesiyle oluşur. GAN'lar kendisine verilen veriseti ile aynı istatistiklere sahip olan yeni veriler oluşturur. \n",
    "\n",
    "GAN iki ayrı ağdan oluşur demiştik. Bu iki ayrı ağdan birisi gerçek verileri alır ve bir denetleyici yapıya gönderir. İkinci ağ yapısı ise orjinal veriyi temsil etmesi gereken başka bir veri oluşturur ve bu veriyi yine aynı denetleyici yapıya gönderir. Denetleyici ağ veya yapı kısmında ise bu veriler test edilir ve ortaya çıkan verilerin sonucunda taklitçi yapıdan gelen verilerin orjinal veriye ne kadar benzediği ölçülür. Taklitçi ağ yapısı eğer yeterince başarılı olamamışsa ağırlıklarını güncelleyerek yeni bir veri oluşturmaya çalışır. Sonuç olarak taklit eden ağın ağırlıkları belirli bir yerden sonra güncellenmiş olur ve orjinal veriye çok benzeyen veya orjinal veriyi iyi temsil eden bir veriseti oluşturmayı öğrenmiş  olur. \n",
    "\n",
    "Yani ağlardan bir tanesi orjinal veriyi kullanırken diğeri de aynı veriyi taklit etmeye çalışır. Her iki ağ da denetleyici yapıya kendi verisinin orjinal olduğunu kanıtlamaya çalışırken, taklitçi ağımız orjinal veriyi sıfırdan kendisi oluşturabilecek hale gelir.\n",
    "\n",
    "Bu durumu bir resimle temsil edersek şöyle görünecektir:\n",
    "\n",
    "![alt text](https://miro.medium.com/max/958/1*-gFsbymY9oJUQJ-A3GTfeg.png)\n",
    "\n",
    "Resim Kaynağı: https://medium.com/@devnag/generative-adversarial-networks-gans-in-50-lines-of-code-pytorch-e81b79659e3f\n",
    "\n",
    "**ÖRNEK BİR GAN YAPISI**\n",
    "![alt text](https://miro.medium.com/max/1741/1*t78gwhhw-hn1CgXc1K89wA.png)\n",
    "\n",
    "Resim Kaynağı: https://medium.com/datadriveninvestor/generative-adversarial-network-gan-using-keras-ce1c05cfdfd3\n",
    "\n",
    "**EPOCH ARTTIKÇA ÖĞRENMENİN GELİŞİMİ**\n",
    "![alt text](https://miro.medium.com/max/1952/1*xm6_ZfvfKSHe2KS49DT8TQ.png)\n",
    "\n",
    "\n",
    "Resim Kaynağı: https://medium.com/datadriveninvestor/generative-adversarial-network-gan-using-keras-ce1c05cfdfd3\n",
    "\n",
    "Bütün bu yapının sonucunda nihai amacımız yeni veri üretmektir. Üretilen yeni veri gerçeğine ne kadar benziyorsa ağımız o kadar başırılı olmuş demektir. İyi bir yapıda ürettiğimiz yeni veriler gerçeğinden ayırt edilemeyecek kadar kalitelidir. \n",
    "\n",
    "Örnek olarak GANs ile üretilmiş aslında gerçekte hiç olmayan insan yüzlerine bakalım:\n",
    "\n",
    "![alt text](https://wp-assets.futurism.com/2018/12/ai1.jpg)\n",
    "\n",
    "Resim Kaynağı: https://futurism.com/incredibly-realistic-faces-generated-neural-network"
   ]
  },
  {
   "cell_type": "markdown",
   "metadata": {
    "colab_type": "text",
    "id": "kIIZad2nvoOE"
   },
   "source": [
    "# GAN MİMARİSİNİN KODLANMASI\n",
    "Nasıl çalıştığını anladıysak örnek bir GAN mimarisi kurmaya başlayabiliriz.\n",
    "\n",
    "**Kütüphanelerin Yüklenmesi**"
   ]
  },
  {
   "cell_type": "code",
   "execution_count": 0,
   "metadata": {
    "colab": {},
    "colab_type": "code",
    "id": "amZtLW8bwCMT"
   },
   "outputs": [],
   "source": [
    "from keras.layers import Dense, Dropout, ReLU\n",
    "from keras.models import Sequential, Model, Input\n",
    "from keras.optimizers import Adam\n",
    "from keras.datasets import mnist\n",
    "import numpy as np\n",
    "import matplotlib.pyplot as plt"
   ]
  },
  {
   "cell_type": "code",
   "execution_count": 0,
   "metadata": {
    "colab": {},
    "colab_type": "code",
    "id": "hKdWXcCeOlpO"
   },
   "outputs": [],
   "source": [
    "import warnings\n",
    "warnings.filterwarnings(\"ignore\")"
   ]
  },
  {
   "cell_type": "markdown",
   "metadata": {
    "colab_type": "text",
    "id": "y3r4_S6jBh4h"
   },
   "source": [
    "Verinin Yüklenmesi"
   ]
  },
  {
   "cell_type": "code",
   "execution_count": 3,
   "metadata": {
    "colab": {
     "base_uri": "https://localhost:8080/",
     "height": 320
    },
    "colab_type": "code",
    "id": "aqPuerC_BhX0",
    "outputId": "d5fb27f6-5381-4824-ab01-90ac041aea24"
   },
   "outputs": [
    {
     "name": "stdout",
     "output_type": "stream",
     "text": [
      "Downloading data from https://s3.amazonaws.com/img-datasets/mnist.npz\n",
      "11493376/11490434 [==============================] - 2s 0us/step\n",
      "(60000, 28, 28)\n"
     ]
    },
    {
     "data": {
      "image/png": "[encoded data removed]",
      "text/plain": [
       "<Figure size 432x288 with 1 Axes>"
      ]
     },
     "metadata": {
      "tags": []
     },
     "output_type": "display_data"
    }
   ],
   "source": [
    "(x_train, y_train), (x_test, y_test) = mnist.load_data()\n",
    "x_train = (x_train.astype(np.float32()-127.5))/127.5\n",
    "plt.imshow(x_train[1])\n",
    "print(x_train.shape)"
   ]
  },
  {
   "cell_type": "code",
   "execution_count": 4,
   "metadata": {
    "colab": {
     "base_uri": "https://localhost:8080/",
     "height": 51
    },
    "colab_type": "code",
    "id": "i4QuIzreC1KF",
    "outputId": "da8b0a16-63e2-4a42-e446-bd25e3eca3ae"
   },
   "outputs": [
    {
     "name": "stdout",
     "output_type": "stream",
     "text": [
      "(60000, 784)\n",
      "(10000, 784)\n"
     ]
    }
   ],
   "source": [
    "x_train = x_train.reshape(x_train.shape[0], x_train.shape[1]*x_train.shape[2])\n",
    "print(x_train.shape)\n",
    "x_test = x_test.reshape(x_test.shape[0], x_test.shape[1]*x_test.shape[2])\n",
    "print(x_test.shape)"
   ]
  },
  {
   "cell_type": "markdown",
   "metadata": {
    "colab_type": "text",
    "id": "Jj-Kib_0Mopd"
   },
   "source": [
    "**Model Kurma**\n",
    "\n",
    "GANs modeli Generator ve Discriminator olmak üzere iki ağdan oluşur. Bu ağları ayrı ayrı kurup daha sonra genel modeli mizi oluşturacağız."
   ]
  },
  {
   "cell_type": "markdown",
   "metadata": {
    "colab_type": "text",
    "id": "UvwcecfYM8Dy"
   },
   "source": [
    "Generator ağ oluşturmak için fonksiyonumuzu yazalım."
   ]
  },
  {
   "cell_type": "code",
   "execution_count": 7,
   "metadata": {
    "colab": {
     "base_uri": "https://localhost:8080/",
     "height": 391
    },
    "colab_type": "code",
    "id": "bYEKeq1tDV15",
    "outputId": "00e73e88-c417-4860-f001-233c304e7881"
   },
   "outputs": [
    {
     "name": "stdout",
     "output_type": "stream",
     "text": [
      "Model: \"sequential_2\"\n",
      "_________________________________________________________________\n",
      "Layer (type)                 Output Shape              Param #   \n",
      "=================================================================\n",
      "dense_5 (Dense)              (None, 512)               51712     \n",
      "_________________________________________________________________\n",
      "re_lu_4 (ReLU)               (None, 512)               0         \n",
      "_________________________________________________________________\n",
      "dense_6 (Dense)              (None, 1024)              525312    \n",
      "_________________________________________________________________\n",
      "re_lu_5 (ReLU)               (None, 1024)              0         \n",
      "_________________________________________________________________\n",
      "dense_7 (Dense)              (None, 512)               524800    \n",
      "_________________________________________________________________\n",
      "re_lu_6 (ReLU)               (None, 512)               0         \n",
      "_________________________________________________________________\n",
      "dense_8 (Dense)              (None, 784)               402192    \n",
      "=================================================================\n",
      "Total params: 1,504,016\n",
      "Trainable params: 1,504,016\n",
      "Non-trainable params: 0\n",
      "_________________________________________________________________\n"
     ]
    }
   ],
   "source": [
    "def create_generator():\n",
    "    generator = Sequential()\n",
    "    generator.add(Dense(512, input_dim=100))\n",
    "    generator.add(ReLU())\n",
    "\n",
    "    generator.add(Dense(1024))\n",
    "    generator.add(ReLU())\n",
    "\n",
    "    generator.add(Dense(512))\n",
    "    generator.add(ReLU())\n",
    "\n",
    "    #çıktı boyutlarını verimizle uyumlu olacak şekilde 784 olarak ayarlayalım\n",
    "    generator.add(Dense(784, activation=\"tanh\"))\n",
    "\n",
    "\n",
    "    #sahte ve gerçek iki sınıf olacağı için classification yapar gibi modelimizi kuracağız.\n",
    "    generator.compile(loss=\"binary_crossentropy\", optimizer=Adam(lr=0.001, beta_1 = 0.5))\n",
    "    return generator\n",
    "\n",
    "g = create_generator()\n",
    "g.summary()"
   ]
  },
  {
   "cell_type": "markdown",
   "metadata": {
    "colab_type": "text",
    "id": "MQhW4MubPEnO"
   },
   "source": [
    "Şimdi de Discriminator ağımızın olacağı kısmı yazalım.\n",
    "\n",
    "Fakat burada anlaşılması gereken kısım Discriminator ağın input shape'i alacağı resimlere uygun olmalıdır. Çünkü bu ağa resimleri direkt olarak vereceğiz, generator gibi kendisi üretmeyecek."
   ]
  },
  {
   "cell_type": "code",
   "execution_count": 9,
   "metadata": {
    "colab": {
     "base_uri": "https://localhost:8080/",
     "height": 459
    },
    "colab_type": "code",
    "id": "3PGYAIszPL_-",
    "outputId": "c2373b61-0d42-49d9-99f5-cefde80741ad"
   },
   "outputs": [
    {
     "name": "stdout",
     "output_type": "stream",
     "text": [
      "Model: \"sequential_4\"\n",
      "_________________________________________________________________\n",
      "Layer (type)                 Output Shape              Param #   \n",
      "=================================================================\n",
      "dense_13 (Dense)             (None, 1024)              803840    \n",
      "_________________________________________________________________\n",
      "re_lu_10 (ReLU)              (None, 1024)              0         \n",
      "_________________________________________________________________\n",
      "dropout_3 (Dropout)          (None, 1024)              0         \n",
      "_________________________________________________________________\n",
      "dense_14 (Dense)             (None, 512)               524800    \n",
      "_________________________________________________________________\n",
      "re_lu_11 (ReLU)              (None, 512)               0         \n",
      "_________________________________________________________________\n",
      "dropout_4 (Dropout)          (None, 512)               0         \n",
      "_________________________________________________________________\n",
      "dense_15 (Dense)             (None, 512)               262656    \n",
      "_________________________________________________________________\n",
      "re_lu_12 (ReLU)              (None, 512)               0         \n",
      "_________________________________________________________________\n",
      "dense_16 (Dense)             (None, 1)                 513       \n",
      "=================================================================\n",
      "Total params: 1,591,809\n",
      "Trainable params: 1,591,809\n",
      "Non-trainable params: 0\n",
      "_________________________________________________________________\n"
     ]
    }
   ],
   "source": [
    "def create_discriminator():\n",
    "    discriminator = Sequential()\n",
    "    discriminator.add(Dense(1024, input_dim=784))\n",
    "    discriminator.add(ReLU())\n",
    "    discriminator.add(Dropout(0.4))\n",
    "    \n",
    "    discriminator.add(Dense(512))\n",
    "    discriminator.add(ReLU())\n",
    "    discriminator.add(Dropout(0.4))\n",
    "\n",
    "    discriminator.add(Dense(512))\n",
    "    discriminator.add(ReLU())\n",
    "\n",
    "    discriminator.add(Dense(1, activation=\"sigmoid\"))\n",
    "\n",
    "    discriminator.compile(loss=\"binary_crossentropy\", optimizer=Adam(lr=0.001, beta_1=0.5))\n",
    "\n",
    "    return discriminator\n",
    "\n",
    "d = create_discriminator()\n",
    "d.summary()"
   ]
  },
  {
   "cell_type": "markdown",
   "metadata": {
    "colab_type": "text",
    "id": "vkIp0nitR2jd"
   },
   "source": [
    "**GAN MODELİNİN OLUŞTURULMASI**\n",
    "\n",
    "Generator ve Discriminator ağlarımızı oluşturduktan sonra artık tek bir yapıda birleştirip GAN modelimizi oluşturabiliriz.\n",
    "\n",
    "Başlamadan önce bilmeliyiz ki, generator kısmının, yani ağımızın üretici olan kısmının, kendisini güncelleyebilmesi için discriminator kısmını geliştirmek istemiyoruz. Çünkü eğer fake/real ayrımını yapacak olan discriminator kısmını da eğitirsek ağın bu kısmı da kendini geliştireceği için, oluşturulan sahte veri ne kadar gerçekçi olursa olsun bu verinin sahte olduğunu anlayacak ve generator kısmı hep başarısız olacaktır. Dolayısıyla üretici ağ her çıktısını başarısız görecek ve kendini geliştirmekte zorlanacaktır. Oysa ki gerçeğe yaklaştığında başarılı olduğunu bilmesi ve kendini buna göre güncellemesi gerekiyor. Bu sebeplerden dolayı discriminator ağımız eğitime kapalı olacak."
   ]
  },
  {
   "cell_type": "code",
   "execution_count": 10,
   "metadata": {
    "colab": {
     "base_uri": "https://localhost:8080/",
     "height": 391
    },
    "colab_type": "code",
    "id": "iFykIq7ASHJN",
    "outputId": "9f56ed35-7fb8-4928-8f20-6faceb74d301"
   },
   "outputs": [
    {
     "name": "stdout",
     "output_type": "stream",
     "text": [
      "Model: \"sequential_2\"\n",
      "_________________________________________________________________\n",
      "Layer (type)                 Output Shape              Param #   \n",
      "=================================================================\n",
      "dense_5 (Dense)              (None, 512)               51712     \n",
      "_________________________________________________________________\n",
      "re_lu_4 (ReLU)               (None, 512)               0         \n",
      "_________________________________________________________________\n",
      "dense_6 (Dense)              (None, 1024)              525312    \n",
      "_________________________________________________________________\n",
      "re_lu_5 (ReLU)               (None, 1024)              0         \n",
      "_________________________________________________________________\n",
      "dense_7 (Dense)              (None, 512)               524800    \n",
      "_________________________________________________________________\n",
      "re_lu_6 (ReLU)               (None, 512)               0         \n",
      "_________________________________________________________________\n",
      "dense_8 (Dense)              (None, 784)               402192    \n",
      "=================================================================\n",
      "Total params: 1,504,016\n",
      "Trainable params: 1,504,016\n",
      "Non-trainable params: 0\n",
      "_________________________________________________________________\n"
     ]
    }
   ],
   "source": [
    "def create_gan(generator, discriminator):\n",
    "    discriminator.trainable = False\n",
    "\n",
    "    #şimdi bir input belirleyip generator'a vermekle başlayalım.\n",
    "    gan_input = Input(shape=(100,))\n",
    "    #generator bu kısmı aldıktan sonra bize bir değer verecek.\n",
    "    x = generator(gan_input)\n",
    "    #aldığımız değer discriminator'a girip denetlenecek ve bize bir GAN outputu dönderecek\n",
    "    gan_output = discriminator(x)\n",
    "\n",
    "    #artık bir gan modeli kurabiliriz.\n",
    "    gan = Model(inputs=gan_input, outputs=gan_output)\n",
    "    gan.compile(loss=\"binary_crossentropy\", optimizer=\"adam\")\n",
    "\n",
    "    #sonuç olarak gan modelimizi döndürelim\n",
    "    return gan\n",
    "\n",
    "gan = create_gan(g, d)\n",
    "g.summary()"
   ]
  },
  {
   "cell_type": "markdown",
   "metadata": {
    "colab_type": "text",
    "id": "FTO3ADHbWFEy"
   },
   "source": [
    "**GAN Modelinin Eğitilmesi**"
   ]
  },
  {
   "cell_type": "code",
   "execution_count": 30,
   "metadata": {
    "colab": {
     "base_uri": "https://localhost:8080/",
     "height": 221
    },
    "colab_type": "code",
    "id": "rUxPtCbvWKOx",
    "outputId": "0a5a0bf1-af12-4757-a91e-46764b734efa"
   },
   "outputs": [
    {
     "name": "stdout",
     "output_type": "stream",
     "text": [
      "Devam eden epoch : 1\n",
      "Devam eden epoch :  5\n",
      "Devam eden epoch :  10\n",
      "Devam eden epoch :  15\n",
      "Devam eden epoch :  20\n",
      "Devam eden epoch :  25\n",
      "Devam eden epoch :  30\n",
      "Devam eden epoch :  35\n",
      "Devam eden epoch :  40\n",
      "Devam eden epoch :  45\n",
      "Devam eden epoch :  50\n",
      "Eğitim Tamamlandı...\n"
     ]
    }
   ],
   "source": [
    "epochs = 50\n",
    "batch_size = 256\n",
    "def gan_train(g, d, gan):\n",
    "    print(\"Devam eden epoch : 1\")\n",
    "    for e in range(epochs):\n",
    "        if (e+1)%5 == 0:\n",
    "            print(\"Devam eden epoch : \", e+1)\n",
    "        for _ in range(batch_size):\n",
    "            noise = np.random.normal(0,1,[batch_size, 100])\n",
    "            generated_img = g.predict(noise)\n",
    "            \n",
    "            batch_img = x_train[np.random.randint(low=0, high=x_train.shape[0], size=batch_size)]\n",
    "            \n",
    "            x = np.concatenate([batch_img, generated_img])\n",
    "\n",
    "\n",
    "            y_disc = np.zeros(batch_size*2)\n",
    "            y_disc[:batch_size] = 1\n",
    "\n",
    "            d.trainable = True\n",
    "            d.train_on_batch(x, y_disc)\n",
    "\n",
    "            noise = np.random.normal(0,1,[batch_size, 100])\n",
    "            y_gen = np.ones(batch_size)\n",
    "\n",
    "            d.trainable = False\n",
    "\n",
    "            gan.train_on_batch(noise, y_gen)\n",
    "        \n",
    "    print(\"Eğitim Tamamlandı...\")\n",
    "gan_train(g,d,gan)"
   ]
  },
  {
   "cell_type": "markdown",
   "metadata": {
    "colab_type": "text",
    "id": "pQFIKKdwj_8f"
   },
   "source": [
    "**GAN Sonuçlarının Görselleştirilmesi**\n",
    "\n",
    "Sadece 50 epoch yaptığımız için çok iyi bir sonuç çıkmasını beklemek mantıksız olur. Epoch sayısı arttıkça çok daha iyi sonuçlar alabiliriz."
   ]
  },
  {
   "cell_type": "code",
   "execution_count": 36,
   "metadata": {
    "colab": {
     "base_uri": "https://localhost:8080/",
     "height": 296
    },
    "colab_type": "code",
    "id": "0knt9gjSdvcQ",
    "outputId": "30fa90df-9c7b-48ab-ba6d-f75a2a0cfa92"
   },
   "outputs": [
    {
     "data": {
      "image/png": "[encoded data removed]",
      "text/plain": [
       "<Figure size 432x288 with 1 Axes>"
      ]
     },
     "metadata": {
      "tags": []
     },
     "output_type": "display_data"
    }
   ],
   "source": [
    "noise = np.random.normal(loc=0, scale=1, size=[100,100])\n",
    "generated_images = g.predict(noise)\n",
    "generated_images = generated_images.reshape(100,28,28)\n",
    "plt.imshow(generated_images[66], interpolation=\"nearest\")\n",
    "plt.title(\"GAN Sonucu\\nÇıkan Resim\")\n",
    "plt.show()"
   ]
  }
 ],
 "metadata": {
  "accelerator": "GPU",
  "colab": {
   "collapsed_sections": [],
   "include_colab_link": true,
   "name": "GAN.ipynb",
   "provenance": [],
   "version": "0.3.2"
  },
  "kernelspec": {
   "display_name": "Python 3 (ipykernel)",
   "language": "python",
   "name": "python3"
  },
  "language_info": {
   "codemirror_mode": {
    "name": "ipython",
    "version": 3
   },
   "file_extension": ".py",
   "mimetype": "text/x-python",
   "name": "python",
   "nbconvert_exporter": "python",
   "pygments_lexer": "ipython3",
   "version": "3.10.5"
  }
 },
 "nbformat": 4,
 "nbformat_minor": 1
}
