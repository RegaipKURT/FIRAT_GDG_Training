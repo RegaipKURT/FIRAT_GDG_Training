{
 "cells": [
  {
   "cell_type": "markdown",
   "metadata": {
    "colab_type": "text",
    "id": "JfkDHn7aejaC"
   },
   "source": [
    "# Auto Encoders\n",
    "\n",
    "Auto Encoder modeli alınan bir girdiyi gizli katmanlarda daha az nöron kullanarak sıkıştırarak veriyi en iyi temsil eden özelliklerin çıkarılmasına yardımcı olur. Daha sonra bu özelliklerden baştaki çıkyıtı en iyi verecek output layer ağırlıklarını oluşturmaya çalışır. Yani girdi olarak bir resim dosyası verdiğimizde, bu resmi en iyi temsil eden özellikleri çıkarır ve daha sonra bu özelliklerden aynı resmi oluşturmaya çalışır. Sadece resim değil, sinyal işlemede gürültü(noise) kaldırma işlemlerinde de kullanılabilir. Veya bir zaman serisinde verinin genel eğilimlerini bulur ve verideki gürültüyü ortadan kaldırabilir. Bunun gibi birçok kullanım alanı olsa da daha iyi anlamak adına bu yapının görsel haline bakmak daha iyi anlamamıza yardımcı olabilir.\n",
    "![alt text](https://static.packt-cdn.com/products/9781787121089/graphics/B12043_04_06.png)\n",
    "\n",
    "Resmin alındığı kaynak: https://subscription.packtpub.com/book/big_data_and_business_intelligence/9781787121089/4/ch04lvl1sec51/setting-up-stacked-autoencoders"
   ]
  },
  {
   "cell_type": "markdown",
   "metadata": {
    "colab_type": "text",
    "id": "PP7_AYKzgd8W"
   },
   "source": [
    "**Kütüphanelerin Yüklenmesi**"
   ]
  },
  {
   "cell_type": "code",
   "execution_count": 0,
   "metadata": {
    "colab": {},
    "colab_type": "code",
    "id": "l0DRTJLQOx0V"
   },
   "outputs": [],
   "source": [
    "from keras.models import Input, Model\n",
    "from keras.layers import Dense\n",
    "from keras.datasets import fashion_mnist\n",
    "import matplotlib.pyplot as plt\n",
    "import numpy as np\n",
    "import json\n",
    "import warnings\n",
    "warnings.filterwarnings(\"ignore\")"
   ]
  },
  {
   "cell_type": "markdown",
   "metadata": {
    "colab_type": "text",
    "id": "LAjgTmOIgizH"
   },
   "source": [
    "**Verisetinin Yüklenmesi**"
   ]
  },
  {
   "cell_type": "code",
   "execution_count": 0,
   "metadata": {
    "colab": {},
    "colab_type": "code",
    "id": "7MoKT5NBPjlb"
   },
   "outputs": [],
   "source": [
    "(x_train, _), (x_test, _) = fashion_mnist.load_data()"
   ]
  },
  {
   "cell_type": "markdown",
   "metadata": {
    "colab_type": "text",
    "id": "EUcPqnDTgly2"
   },
   "source": [
    "**Verinin Tipini Dönüştüme ve Scale İşlemi**"
   ]
  },
  {
   "cell_type": "code",
   "execution_count": 0,
   "metadata": {
    "colab": {},
    "colab_type": "code",
    "id": "UyJ94L2NP74F"
   },
   "outputs": [],
   "source": [
    "x_train = x_train.astype(\"float32\")/255.0\n",
    "x_test = x_test.astype(\"float32\")/255.0"
   ]
  },
  {
   "cell_type": "markdown",
   "metadata": {
    "colab_type": "text",
    "id": "lEubhzSEgxfG"
   },
   "source": [
    "**Verinin Yeniden Boyutlandırılması**"
   ]
  },
  {
   "cell_type": "code",
   "execution_count": 0,
   "metadata": {
    "colab": {},
    "colab_type": "code",
    "id": "-ci3Nwv2QIQj"
   },
   "outputs": [],
   "source": [
    "x_train = x_train.reshape((len(x_train), x_train.shape[1:][0]*x_train.shape[1:][1]))"
   ]
  },
  {
   "cell_type": "code",
   "execution_count": 0,
   "metadata": {
    "colab": {},
    "colab_type": "code",
    "id": "3Nrntnt4Q-fg"
   },
   "outputs": [],
   "source": [
    "x_test = x_test.reshape((len(x_test), x_test.shape[1:][0]*x_test.shape[1:][1]))"
   ]
  },
  {
   "cell_type": "code",
   "execution_count": 20,
   "metadata": {
    "colab": {
     "base_uri": "https://localhost:8080/",
     "height": 34
    },
    "colab_type": "code",
    "id": "9TL3wcUoRCbt",
    "outputId": "eb5f9b1d-1e5e-45e2-a538-9c96ceb9b8ba"
   },
   "outputs": [
    {
     "name": "stdout",
     "output_type": "stream",
     "text": [
      "(60000, 784) (10000, 784)\n"
     ]
    }
   ],
   "source": [
    "print(x_train.shape,x_test.shape)"
   ]
  },
  {
   "cell_type": "markdown",
   "metadata": {
    "colab_type": "text",
    "id": "aG1hWezhg2sU"
   },
   "source": [
    "**Verisetini Örnek Olarak Görselleştirme**"
   ]
  },
  {
   "cell_type": "code",
   "execution_count": 21,
   "metadata": {
    "colab": {
     "base_uri": "https://localhost:8080/",
     "height": 773
    },
    "colab_type": "code",
    "id": "zz54PLErRXxZ",
    "outputId": "d745fccf-f129-4825-aceb-c7fccb14c155"
   },
   "outputs": [
    {
     "data": {
      "image/png": "[encoded data removed]",
      "text/plain": [
       "<Figure size 432x288 with 1 Axes>"
      ]
     },
     "metadata": {
      "tags": []
     },
     "output_type": "display_data"
    },
    {
     "data": {
      "image/png": "[encoded data removed]",
      "text/plain": [
       "<Figure size 432x288 with 1 Axes>"
      ]
     },
     "metadata": {
      "tags": []
     },
     "output_type": "display_data"
    },
    {
     "data": {
      "image/png": "[encoded data removed]",
      "text/plain": [
       "<Figure size 432x288 with 1 Axes>"
      ]
     },
     "metadata": {
      "tags": []
     },
     "output_type": "display_data"
    }
   ],
   "source": [
    "plt.imshow(x_train[4000].reshape(28,28))\n",
    "plt.show()\n",
    "plt.imshow(x_train[1500].reshape(28,28))\n",
    "plt.show()\n",
    "plt.imshow(x_train[150].reshape(28,28))\n",
    "plt.show()"
   ]
  },
  {
   "cell_type": "markdown",
   "metadata": {
    "colab_type": "text",
    "id": "XsbuWaW6SVJF"
   },
   "source": [
    "**AutoEncoder Modeli OLuşturma Aşaması**"
   ]
  },
  {
   "cell_type": "markdown",
   "metadata": {
    "colab_type": "text",
    "id": "OYdrPwrHTXks"
   },
   "source": [
    "Encoder ve Decoder layerlarının oluşturulması"
   ]
  },
  {
   "cell_type": "code",
   "execution_count": 23,
   "metadata": {
    "colab": {
     "base_uri": "https://localhost:8080/",
     "height": 139
    },
    "colab_type": "code",
    "id": "HFOBi0Q_ScNQ",
    "outputId": "72783e7b-a7ae-4c47-9940-91f882a73093"
   },
   "outputs": [
    {
     "name": "stdout",
     "output_type": "stream",
     "text": [
      "WARNING:tensorflow:From /usr/local/lib/python3.6/dist-packages/keras/backend/tensorflow_backend.py:66: The name tf.get_default_graph is deprecated. Please use tf.compat.v1.get_default_graph instead.\n",
      "\n",
      "WARNING:tensorflow:From /usr/local/lib/python3.6/dist-packages/keras/backend/tensorflow_backend.py:541: The name tf.placeholder is deprecated. Please use tf.compat.v1.placeholder instead.\n",
      "\n",
      "WARNING:tensorflow:From /usr/local/lib/python3.6/dist-packages/keras/backend/tensorflow_backend.py:4432: The name tf.random_uniform is deprecated. Please use tf.random.uniform instead.\n",
      "\n"
     ]
    }
   ],
   "source": [
    "input_img = Input(shape=(784,))\n",
    "encoded = Dense(32, activation=\"relu\")(input_img)\n",
    "encoded = Dense(16, activation=\"relu\")(encoded)"
   ]
  },
  {
   "cell_type": "code",
   "execution_count": 0,
   "metadata": {
    "colab": {},
    "colab_type": "code",
    "id": "NuJOaf0RTdLo"
   },
   "outputs": [],
   "source": [
    "decoded = Dense(32, activation=\"relu\")(encoded)\n",
    "output_img = Dense(784, activation=\"sigmoid\")(decoded)"
   ]
  },
  {
   "cell_type": "markdown",
   "metadata": {
    "colab_type": "text",
    "id": "9zdgAlxLUMHZ"
   },
   "source": [
    "**AutoEncoder Modeli Oluşturma**\n",
    "\n",
    "İnput kısmından output kısmına kadar oluşturduğumuz layerları bir model içine depolayıp AutoEncoder kurmuş olacağız."
   ]
  },
  {
   "cell_type": "code",
   "execution_count": 0,
   "metadata": {
    "colab": {},
    "colab_type": "code",
    "id": "5JKYMXeOUL1p"
   },
   "outputs": [],
   "source": [
    "autoencoder = Model(input_img, output_img)"
   ]
  },
  {
   "cell_type": "markdown",
   "metadata": {
    "colab_type": "text",
    "id": "L-mMjhM3VKsU"
   },
   "source": [
    "**Model Compile ve Train Aşamaları**"
   ]
  },
  {
   "cell_type": "code",
   "execution_count": 26,
   "metadata": {
    "colab": {
     "base_uri": "https://localhost:8080/",
     "height": 156
    },
    "colab_type": "code",
    "id": "PsdazrsdVJ_V",
    "outputId": "11aa323c-df86-454e-dbd3-3ffd1cba08d0"
   },
   "outputs": [
    {
     "name": "stdout",
     "output_type": "stream",
     "text": [
      "WARNING:tensorflow:From /usr/local/lib/python3.6/dist-packages/keras/optimizers.py:793: The name tf.train.Optimizer is deprecated. Please use tf.compat.v1.train.Optimizer instead.\n",
      "\n",
      "WARNING:tensorflow:From /usr/local/lib/python3.6/dist-packages/keras/backend/tensorflow_backend.py:3657: The name tf.log is deprecated. Please use tf.math.log instead.\n",
      "\n",
      "WARNING:tensorflow:From /usr/local/lib/python3.6/dist-packages/tensorflow/python/ops/nn_impl.py:180: add_dispatch_support.<locals>.wrapper (from tensorflow.python.ops.array_ops) is deprecated and will be removed in a future version.\n",
      "Instructions for updating:\n",
      "Use tf.where in 2.0, which has the same broadcast rule as np.where\n"
     ]
    }
   ],
   "source": [
    "autoencoder.compile(optimizer=\"rmsprop\", loss=\"binary_crossentropy\")"
   ]
  },
  {
   "cell_type": "code",
   "execution_count": 0,
   "metadata": {
    "colab": {},
    "colab_type": "code",
    "id": "i1QdpsWOVtvz"
   },
   "outputs": [],
   "source": [
    "history = autoencoder.fit(x_train, x_train, \n",
    "                          epochs=200, \n",
    "                          batch_size=256, \n",
    "                          shuffle=True,\n",
    "                          validation_data=(x_train, x_train))"
   ]
  },
  {
   "cell_type": "markdown",
   "metadata": {
    "colab_type": "text",
    "id": "4R7j8VPKZlNO"
   },
   "source": [
    "**Sonuçların Görselleştirilmesi**"
   ]
  },
  {
   "cell_type": "code",
   "execution_count": 32,
   "metadata": {
    "colab": {
     "base_uri": "https://localhost:8080/",
     "height": 269
    },
    "colab_type": "code",
    "id": "OhQ1Sh0LZtp3",
    "outputId": "a11a4893-e73f-4096-964f-2c2f7f32c41c"
   },
   "outputs": [
    {
     "data": {
      "image/png": "[encoded data removed]",
      "text/plain": [
       "<Figure size 432x288 with 1 Axes>"
      ]
     },
     "metadata": {
      "tags": []
     },
     "output_type": "display_data"
    }
   ],
   "source": [
    "plt.plot(history.history[\"loss\"], label=\"Train Loss\")\n",
    "plt.plot(history.history[\"val_loss\"], label=\"Validation Loss\")\n",
    "plt.legend()\n",
    "plt.show()"
   ]
  },
  {
   "cell_type": "markdown",
   "metadata": {
    "colab_type": "text",
    "id": "lV2VssusaMea"
   },
   "source": [
    "**Sonuçta ortaya çıkan resimlere test setinden tahmin yapıp bakalım**"
   ]
  },
  {
   "cell_type": "code",
   "execution_count": 0,
   "metadata": {
    "colab": {},
    "colab_type": "code",
    "id": "0Vsm3pPfaTA6"
   },
   "outputs": [],
   "source": [
    "x_test_pred = autoencoder.predict(x_test)"
   ]
  },
  {
   "cell_type": "code",
   "execution_count": 31,
   "metadata": {
    "colab": {
     "base_uri": "https://localhost:8080/",
     "height": 560
    },
    "colab_type": "code",
    "id": "AD-Vncf-afqh",
    "outputId": "53cdb6a1-b3d9-4f87-f332-fe4d9a415dba"
   },
   "outputs": [
    {
     "data": {
      "image/png": "[encoded data removed]",
      "text/plain": [
       "<Figure size 432x288 with 1 Axes>"
      ]
     },
     "metadata": {
      "tags": []
     },
     "output_type": "display_data"
    },
    {
     "data": {
      "image/png": "[encoded data removed]",
      "text/plain": [
       "<Figure size 432x288 with 1 Axes>"
      ]
     },
     "metadata": {
      "tags": []
     },
     "output_type": "display_data"
    }
   ],
   "source": [
    "plt.imshow(x_test[100].reshape(28,28))\n",
    "plt.title(\"Gerçek Resim\")\n",
    "plt.show()\n",
    "plt.imshow(x_test_pred[100].reshape(28,28))\n",
    "plt.title(\"Auto Encoder \\nSonucu Çıkan Resim\")\n",
    "plt.show()"
   ]
  },
  {
   "cell_type": "markdown",
   "metadata": {
    "colab_type": "text",
    "id": "ZnqymKpLbaao"
   },
   "source": [
    "Sonuç olarak modelimizin hiç görmediği resimler üzerinde de kabul edilebilir sonuçlar verdiğini resimleri görselleştirerek anlamış olduk. Tabi burada yazılanlar eğitim amaçlı ve optimize edilmemiş bir modelden ortaya çıktı. Daha iyi sonuçlar elde edilmesi mümkün."
   ]
  },
  {
   "cell_type": "markdown",
   "metadata": {
    "colab_type": "text",
    "id": "jRoHhdildqL8"
   },
   "source": [
    "**Daha fazla resim ile görselleştirelim**\n",
    "\n",
    "Kaynak: https://blog.keras.io/building-autoencoders-in-keras.html"
   ]
  },
  {
   "cell_type": "code",
   "execution_count": 33,
   "metadata": {
    "colab": {
     "base_uri": "https://localhost:8080/",
     "height": 264
    },
    "colab_type": "code",
    "id": "YNVZPi3Sd1nm",
    "outputId": "164b43f6-0eab-43d3-c919-97da8cde32e2"
   },
   "outputs": [
    {
     "data": {
      "image/png": "[encoded data removed]",
      "text/plain": [
       "<Figure size 1440x288 with 20 Axes>"
      ]
     },
     "metadata": {
      "tags": []
     },
     "output_type": "display_data"
    }
   ],
   "source": [
    "n = 10  # how many digits we will display\n",
    "plt.figure(figsize=(20, 4))\n",
    "for i in range(n):\n",
    "    # display original\n",
    "    ax = plt.subplot(2, n, i + 1)\n",
    "    plt.imshow(x_test[i].reshape(28, 28))\n",
    "    plt.gray()\n",
    "    ax.get_xaxis().set_visible(False)\n",
    "    ax.get_yaxis().set_visible(False)\n",
    "\n",
    "    # display reconstruction\n",
    "    ax = plt.subplot(2, n, i + 1 + n)\n",
    "    plt.imshow(x_test_pred[i].reshape(28, 28))\n",
    "    plt.gray()\n",
    "    ax.get_xaxis().set_visible(False)\n",
    "    ax.get_yaxis().set_visible(False)\n",
    "plt.show()"
   ]
  }
 ],
 "metadata": {
  "accelerator": "GPU",
  "colab": {
   "collapsed_sections": [],
   "name": "AutoEncoders.ipynb",
   "provenance": [],
   "version": "0.3.2"
  },
  "kernelspec": {
   "display_name": "Python 3 (ipykernel)",
   "language": "python",
   "name": "python3"
  },
  "language_info": {
   "codemirror_mode": {
    "name": "ipython",
    "version": 3
   },
   "file_extension": ".py",
   "mimetype": "text/x-python",
   "name": "python",
   "nbconvert_exporter": "python",
   "pygments_lexer": "ipython3",
   "version": "3.10.5"
  }
 },
 "nbformat": 4,
 "nbformat_minor": 1
}
